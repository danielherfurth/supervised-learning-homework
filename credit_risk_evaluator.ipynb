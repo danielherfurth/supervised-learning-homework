{
 "cells": [
  {
   "cell_type": "markdown",
   "source": [
    "### Prediction\n",
    "I think that the random forest classifier will generate a better model than logistic regression.\n",
    "\n",
    "Random forest doesn't rely on statistical assumptions and is far more robust to overfitting."
   ],
   "metadata": {
    "collapsed": false,
    "pycharm": {
     "name": "#%% md\n"
    }
   }
  },
  {
   "cell_type": "code",
   "execution_count": 1,
   "outputs": [],
   "source": [
    "\n",
    "import pandas as pd\n",
    "\n",
    "from sklearn.preprocessing import StandardScaler\n",
    "from sklearn.linear_model import LogisticRegression\n",
    "from sklearn.ensemble import RandomForestClassifier\n",
    "\n",
    "import warnings\n",
    "\n",
    "warnings.filterwarnings('ignore')\n",
    "\n",
    "\n",
    "def spaceless_lowers(df):\n",
    "    \"\"\"remove spaces and capital letters from column names. replace with _ and lowercase, respectively\"\"\"\n",
    "\n",
    "    new_cols = []\n",
    "    cols = df.columns\n",
    "\n",
    "    for col in cols:\n",
    "\n",
    "        if df[col].dtype == 'object':\n",
    "            df[col] = df[col].str.lower()\n",
    "        new_col = col.replace(' ', '_').lower()\n",
    "        new_cols.append(new_col)\n",
    "\n",
    "    df.columns = new_cols\n",
    "\n",
    "    return df\n",
    "\n",
    "\n",
    "train_df = pd.read_csv('Resources/2019loans.csv')\n",
    "test_df = pd.read_csv('Resources/2020Q1loans.csv')\n",
    "\n",
    "use_cols = ['home_ownership', 'verification_status',\n",
    "            'application_type', 'hardship_flag',\n",
    "            'debt_settlement_flag', 'initial_list_status',\n",
    "            'pymnt_plan', 'loan_status']\n",
    "\n"
   ],
   "metadata": {
    "collapsed": false,
    "pycharm": {
     "name": "#%%\n"
    }
   }
  },
  {
   "cell_type": "code",
   "execution_count": 2,
   "metadata": {
    "pycharm": {
     "name": "#%%\n"
    }
   },
   "outputs": [],
   "source": [
    "train_df = train_df.dropna(axis='columns', how='all')\n",
    "test_df = test_df.dropna(axis='columns', how='all')\n",
    "\n",
    "train_df = train_df.dropna()\n",
    "\n",
    "train_df = train_df.drop(['Unnamed: 0', 'index'], axis=1)\n",
    "test_df = test_df.drop(['Unnamed: 0', 'index'], axis=1)\n",
    "\n",
    "test_df = spaceless_lowers(test_df)[use_cols]\n",
    "train_df = spaceless_lowers(train_df)[use_cols]\n",
    "\n",
    "# more straightforward to do it without this\n",
    "# train_df = pd.get_dummies(train_df, columns=use_cols)\n",
    "# test_df = pd.get_dummies(test_df, columns=use_cols)\n",
    "\n",
    "dfs = [train_df, test_df]"
   ]
  },
  {
   "cell_type": "code",
   "execution_count": 3,
   "metadata": {
    "pycharm": {
     "name": "#%%\n"
    }
   },
   "outputs": [
    {
     "data": {
      "text/plain": "     home_ownership verification_status application_type hardship_flag  \\\n0          mortgage        not verified       individual             n   \n1              rent        not verified       individual             n   \n2              rent        not verified       individual             n   \n3              rent        not verified       individual             n   \n4              rent        not verified       individual             n   \n...             ...                 ...              ...           ...   \n4697           rent     source verified       individual             n   \n4698           rent        not verified       individual             n   \n4699           rent            verified       individual             n   \n4700           rent     source verified       individual             n   \n4701           rent     source verified       individual             n   \n\n     debt_settlement_flag initial_list_status pymnt_plan loan_status  \n0                       n                   w          n    low_risk  \n1                       n                   w          n    low_risk  \n2                       n                   w          n    low_risk  \n3                       n                   w          n    low_risk  \n4                       n                   w          n    low_risk  \n...                   ...                 ...        ...         ...  \n4697                    n                   f          n   high_risk  \n4698                    n                   w          n   high_risk  \n4699                    n                   f          n   high_risk  \n4700                    n                   w          n   high_risk  \n4701                    n                   f          n   high_risk  \n\n[4702 rows x 8 columns]",
      "text/html": "<div>\n<style scoped>\n    .dataframe tbody tr th:only-of-type {\n        vertical-align: middle;\n    }\n\n    .dataframe tbody tr th {\n        vertical-align: top;\n    }\n\n    .dataframe thead th {\n        text-align: right;\n    }\n</style>\n<table border=\"1\" class=\"dataframe\">\n  <thead>\n    <tr style=\"text-align: right;\">\n      <th></th>\n      <th>home_ownership</th>\n      <th>verification_status</th>\n      <th>application_type</th>\n      <th>hardship_flag</th>\n      <th>debt_settlement_flag</th>\n      <th>initial_list_status</th>\n      <th>pymnt_plan</th>\n      <th>loan_status</th>\n    </tr>\n  </thead>\n  <tbody>\n    <tr>\n      <th>0</th>\n      <td>mortgage</td>\n      <td>not verified</td>\n      <td>individual</td>\n      <td>n</td>\n      <td>n</td>\n      <td>w</td>\n      <td>n</td>\n      <td>low_risk</td>\n    </tr>\n    <tr>\n      <th>1</th>\n      <td>rent</td>\n      <td>not verified</td>\n      <td>individual</td>\n      <td>n</td>\n      <td>n</td>\n      <td>w</td>\n      <td>n</td>\n      <td>low_risk</td>\n    </tr>\n    <tr>\n      <th>2</th>\n      <td>rent</td>\n      <td>not verified</td>\n      <td>individual</td>\n      <td>n</td>\n      <td>n</td>\n      <td>w</td>\n      <td>n</td>\n      <td>low_risk</td>\n    </tr>\n    <tr>\n      <th>3</th>\n      <td>rent</td>\n      <td>not verified</td>\n      <td>individual</td>\n      <td>n</td>\n      <td>n</td>\n      <td>w</td>\n      <td>n</td>\n      <td>low_risk</td>\n    </tr>\n    <tr>\n      <th>4</th>\n      <td>rent</td>\n      <td>not verified</td>\n      <td>individual</td>\n      <td>n</td>\n      <td>n</td>\n      <td>w</td>\n      <td>n</td>\n      <td>low_risk</td>\n    </tr>\n    <tr>\n      <th>...</th>\n      <td>...</td>\n      <td>...</td>\n      <td>...</td>\n      <td>...</td>\n      <td>...</td>\n      <td>...</td>\n      <td>...</td>\n      <td>...</td>\n    </tr>\n    <tr>\n      <th>4697</th>\n      <td>rent</td>\n      <td>source verified</td>\n      <td>individual</td>\n      <td>n</td>\n      <td>n</td>\n      <td>f</td>\n      <td>n</td>\n      <td>high_risk</td>\n    </tr>\n    <tr>\n      <th>4698</th>\n      <td>rent</td>\n      <td>not verified</td>\n      <td>individual</td>\n      <td>n</td>\n      <td>n</td>\n      <td>w</td>\n      <td>n</td>\n      <td>high_risk</td>\n    </tr>\n    <tr>\n      <th>4699</th>\n      <td>rent</td>\n      <td>verified</td>\n      <td>individual</td>\n      <td>n</td>\n      <td>n</td>\n      <td>f</td>\n      <td>n</td>\n      <td>high_risk</td>\n    </tr>\n    <tr>\n      <th>4700</th>\n      <td>rent</td>\n      <td>source verified</td>\n      <td>individual</td>\n      <td>n</td>\n      <td>n</td>\n      <td>w</td>\n      <td>n</td>\n      <td>high_risk</td>\n    </tr>\n    <tr>\n      <th>4701</th>\n      <td>rent</td>\n      <td>source verified</td>\n      <td>individual</td>\n      <td>n</td>\n      <td>n</td>\n      <td>f</td>\n      <td>n</td>\n      <td>high_risk</td>\n    </tr>\n  </tbody>\n</table>\n<p>4702 rows × 8 columns</p>\n</div>"
     },
     "execution_count": 3,
     "metadata": {},
     "output_type": "execute_result"
    }
   ],
   "source": [
    "test_df"
   ]
  },
  {
   "cell_type": "code",
   "execution_count": 4,
   "metadata": {
    "pycharm": {
     "name": "#%%\n"
    }
   },
   "outputs": [
    {
     "data": {
      "text/plain": "      home_ownership verification_status application_type hardship_flag  \\\n0           mortgage        not verified       individual             n   \n1           mortgage     source verified       individual             n   \n2           mortgage     source verified       individual             n   \n3               rent        not verified       individual             n   \n4           mortgage     source verified       individual             n   \n...              ...                 ...              ...           ...   \n12175           rent        not verified       individual             n   \n12176           rent            verified       individual             n   \n12177           rent        not verified       individual             n   \n12178       mortgage     source verified        joint app             n   \n12179           rent        not verified       individual             n   \n\n      debt_settlement_flag initial_list_status pymnt_plan loan_status  \n0                        n                   w          n    low_risk  \n1                        n                   w          n    low_risk  \n2                        n                   w          n    low_risk  \n3                        n                   w          n    low_risk  \n4                        n                   w          n    low_risk  \n...                    ...                 ...        ...         ...  \n12175                    n                   w          n   high_risk  \n12176                    n                   w          n   high_risk  \n12177                    n                   w          n   high_risk  \n12178                    n                   w          n   high_risk  \n12179                    n                   f          n   high_risk  \n\n[12180 rows x 8 columns]",
      "text/html": "<div>\n<style scoped>\n    .dataframe tbody tr th:only-of-type {\n        vertical-align: middle;\n    }\n\n    .dataframe tbody tr th {\n        vertical-align: top;\n    }\n\n    .dataframe thead th {\n        text-align: right;\n    }\n</style>\n<table border=\"1\" class=\"dataframe\">\n  <thead>\n    <tr style=\"text-align: right;\">\n      <th></th>\n      <th>home_ownership</th>\n      <th>verification_status</th>\n      <th>application_type</th>\n      <th>hardship_flag</th>\n      <th>debt_settlement_flag</th>\n      <th>initial_list_status</th>\n      <th>pymnt_plan</th>\n      <th>loan_status</th>\n    </tr>\n  </thead>\n  <tbody>\n    <tr>\n      <th>0</th>\n      <td>mortgage</td>\n      <td>not verified</td>\n      <td>individual</td>\n      <td>n</td>\n      <td>n</td>\n      <td>w</td>\n      <td>n</td>\n      <td>low_risk</td>\n    </tr>\n    <tr>\n      <th>1</th>\n      <td>mortgage</td>\n      <td>source verified</td>\n      <td>individual</td>\n      <td>n</td>\n      <td>n</td>\n      <td>w</td>\n      <td>n</td>\n      <td>low_risk</td>\n    </tr>\n    <tr>\n      <th>2</th>\n      <td>mortgage</td>\n      <td>source verified</td>\n      <td>individual</td>\n      <td>n</td>\n      <td>n</td>\n      <td>w</td>\n      <td>n</td>\n      <td>low_risk</td>\n    </tr>\n    <tr>\n      <th>3</th>\n      <td>rent</td>\n      <td>not verified</td>\n      <td>individual</td>\n      <td>n</td>\n      <td>n</td>\n      <td>w</td>\n      <td>n</td>\n      <td>low_risk</td>\n    </tr>\n    <tr>\n      <th>4</th>\n      <td>mortgage</td>\n      <td>source verified</td>\n      <td>individual</td>\n      <td>n</td>\n      <td>n</td>\n      <td>w</td>\n      <td>n</td>\n      <td>low_risk</td>\n    </tr>\n    <tr>\n      <th>...</th>\n      <td>...</td>\n      <td>...</td>\n      <td>...</td>\n      <td>...</td>\n      <td>...</td>\n      <td>...</td>\n      <td>...</td>\n      <td>...</td>\n    </tr>\n    <tr>\n      <th>12175</th>\n      <td>rent</td>\n      <td>not verified</td>\n      <td>individual</td>\n      <td>n</td>\n      <td>n</td>\n      <td>w</td>\n      <td>n</td>\n      <td>high_risk</td>\n    </tr>\n    <tr>\n      <th>12176</th>\n      <td>rent</td>\n      <td>verified</td>\n      <td>individual</td>\n      <td>n</td>\n      <td>n</td>\n      <td>w</td>\n      <td>n</td>\n      <td>high_risk</td>\n    </tr>\n    <tr>\n      <th>12177</th>\n      <td>rent</td>\n      <td>not verified</td>\n      <td>individual</td>\n      <td>n</td>\n      <td>n</td>\n      <td>w</td>\n      <td>n</td>\n      <td>high_risk</td>\n    </tr>\n    <tr>\n      <th>12178</th>\n      <td>mortgage</td>\n      <td>source verified</td>\n      <td>joint app</td>\n      <td>n</td>\n      <td>n</td>\n      <td>w</td>\n      <td>n</td>\n      <td>high_risk</td>\n    </tr>\n    <tr>\n      <th>12179</th>\n      <td>rent</td>\n      <td>not verified</td>\n      <td>individual</td>\n      <td>n</td>\n      <td>n</td>\n      <td>f</td>\n      <td>n</td>\n      <td>high_risk</td>\n    </tr>\n  </tbody>\n</table>\n<p>12180 rows × 8 columns</p>\n</div>"
     },
     "execution_count": 4,
     "metadata": {},
     "output_type": "execute_result"
    }
   ],
   "source": [
    "train_df"
   ]
  },
  {
   "cell_type": "code",
   "execution_count": 5,
   "metadata": {
    "pycharm": {
     "name": "#%%\n"
    }
   },
   "outputs": [
    {
     "data": {
      "text/plain": "Index(['home_ownership', 'verification_status', 'application_type',\n       'hardship_flag', 'debt_settlement_flag', 'initial_list_status',\n       'pymnt_plan', 'loan_status'],\n      dtype='object')"
     },
     "execution_count": 5,
     "metadata": {},
     "output_type": "execute_result"
    }
   ],
   "source": [
    "train_df.columns"
   ]
  },
  {
   "cell_type": "code",
   "execution_count": 6,
   "metadata": {
    "pycharm": {
     "name": "#%%\n"
    }
   },
   "outputs": [],
   "source": [
    "obj_cols = [col for col in train_df.columns if train_df[col].dtype == 'object']\n",
    "\n",
    "for col in obj_cols:\n",
    "    train_df[col] = train_df[col].str.lower().str.replace(' ', '_')\n",
    "    test_df[col] = test_df[col].str.lower().str.replace(' ', '_')\n",
    "\n",
    "for df in dfs:\n",
    "    home_ownership = df['home_ownership']\n",
    "    verification_status = df['verification_status']\n",
    "    pymnt_plan = df['pymnt_plan']\n",
    "    initial_list_status = df['initial_list_status']\n",
    "    application_type = df['application_type']\n",
    "    hardship_flag = df['hardship_flag']\n",
    "    debt_settlement_flag = df['debt_settlement_flag']\n",
    "    loan_status = df['loan_status']\n",
    "\n",
    "    home_ownership.replace(\n",
    "        {\n",
    "            'mortgage': 0,\n",
    "            'rent': 1,\n",
    "            'own': 2,\n",
    "            'any': 3\n",
    "\n",
    "        }, inplace=True\n",
    "    )\n",
    "\n",
    "    loan_status.replace(\n",
    "        {\n",
    "            'low_risk': 0,\n",
    "            'high_risk': 1\n",
    "        }, inplace=True\n",
    "    )\n",
    "\n",
    "    verification_status.replace(\n",
    "        {\n",
    "            'not_verified': 0,\n",
    "            'source_verified': 1,\n",
    "            'verified': 2\n",
    "        }, inplace=True\n",
    "    )\n",
    "\n",
    "    pymnt_plan.replace(\n",
    "        {\n",
    "            'n': 0\n",
    "        }, inplace=True\n",
    "    )\n",
    "\n",
    "    initial_list_status.replace(\n",
    "        {\n",
    "            'w': 0,\n",
    "            'f': 1\n",
    "        }, inplace=True\n",
    "    )\n",
    "\n",
    "    application_type.replace(\n",
    "        {\n",
    "            'individual': 0,\n",
    "            'joint_app': 1\n",
    "        }, inplace=True\n",
    "    )\n",
    "\n",
    "    hardship_flag.replace(\n",
    "        {\n",
    "            'n': 0,\n",
    "            'y': 1\n",
    "        }, inplace=True\n",
    "    )\n",
    "\n",
    "    debt_settlement_flag.replace(\n",
    "        {\n",
    "            'n': 0,\n",
    "            'y': 1\n",
    "        }, inplace=True)\n",
    "\n"
   ]
  },
  {
   "cell_type": "code",
   "execution_count": 7,
   "metadata": {
    "pycharm": {
     "name": "#%%\n"
    }
   },
   "outputs": [
    {
     "data": {
      "text/plain": "       home_ownership  verification_status  application_type  hardship_flag  \\\n0                   0                    0                 0              0   \n1                   0                    1                 0              0   \n2                   0                    1                 0              0   \n3                   1                    0                 0              0   \n4                   0                    1                 0              0   \n...               ...                  ...               ...            ...   \n12175               1                    0                 0              0   \n12176               1                    2                 0              0   \n12177               1                    0                 0              0   \n12178               0                    1                 1              0   \n12179               1                    0                 0              0   \n\n       debt_settlement_flag  initial_list_status  pymnt_plan  loan_status  \n0                         0                    0           0            0  \n1                         0                    0           0            0  \n2                         0                    0           0            0  \n3                         0                    0           0            0  \n4                         0                    0           0            0  \n...                     ...                  ...         ...          ...  \n12175                     0                    0           0            1  \n12176                     0                    0           0            1  \n12177                     0                    0           0            1  \n12178                     0                    0           0            1  \n12179                     0                    1           0            1  \n\n[12180 rows x 8 columns]",
      "text/html": "<div>\n<style scoped>\n    .dataframe tbody tr th:only-of-type {\n        vertical-align: middle;\n    }\n\n    .dataframe tbody tr th {\n        vertical-align: top;\n    }\n\n    .dataframe thead th {\n        text-align: right;\n    }\n</style>\n<table border=\"1\" class=\"dataframe\">\n  <thead>\n    <tr style=\"text-align: right;\">\n      <th></th>\n      <th>home_ownership</th>\n      <th>verification_status</th>\n      <th>application_type</th>\n      <th>hardship_flag</th>\n      <th>debt_settlement_flag</th>\n      <th>initial_list_status</th>\n      <th>pymnt_plan</th>\n      <th>loan_status</th>\n    </tr>\n  </thead>\n  <tbody>\n    <tr>\n      <th>0</th>\n      <td>0</td>\n      <td>0</td>\n      <td>0</td>\n      <td>0</td>\n      <td>0</td>\n      <td>0</td>\n      <td>0</td>\n      <td>0</td>\n    </tr>\n    <tr>\n      <th>1</th>\n      <td>0</td>\n      <td>1</td>\n      <td>0</td>\n      <td>0</td>\n      <td>0</td>\n      <td>0</td>\n      <td>0</td>\n      <td>0</td>\n    </tr>\n    <tr>\n      <th>2</th>\n      <td>0</td>\n      <td>1</td>\n      <td>0</td>\n      <td>0</td>\n      <td>0</td>\n      <td>0</td>\n      <td>0</td>\n      <td>0</td>\n    </tr>\n    <tr>\n      <th>3</th>\n      <td>1</td>\n      <td>0</td>\n      <td>0</td>\n      <td>0</td>\n      <td>0</td>\n      <td>0</td>\n      <td>0</td>\n      <td>0</td>\n    </tr>\n    <tr>\n      <th>4</th>\n      <td>0</td>\n      <td>1</td>\n      <td>0</td>\n      <td>0</td>\n      <td>0</td>\n      <td>0</td>\n      <td>0</td>\n      <td>0</td>\n    </tr>\n    <tr>\n      <th>...</th>\n      <td>...</td>\n      <td>...</td>\n      <td>...</td>\n      <td>...</td>\n      <td>...</td>\n      <td>...</td>\n      <td>...</td>\n      <td>...</td>\n    </tr>\n    <tr>\n      <th>12175</th>\n      <td>1</td>\n      <td>0</td>\n      <td>0</td>\n      <td>0</td>\n      <td>0</td>\n      <td>0</td>\n      <td>0</td>\n      <td>1</td>\n    </tr>\n    <tr>\n      <th>12176</th>\n      <td>1</td>\n      <td>2</td>\n      <td>0</td>\n      <td>0</td>\n      <td>0</td>\n      <td>0</td>\n      <td>0</td>\n      <td>1</td>\n    </tr>\n    <tr>\n      <th>12177</th>\n      <td>1</td>\n      <td>0</td>\n      <td>0</td>\n      <td>0</td>\n      <td>0</td>\n      <td>0</td>\n      <td>0</td>\n      <td>1</td>\n    </tr>\n    <tr>\n      <th>12178</th>\n      <td>0</td>\n      <td>1</td>\n      <td>1</td>\n      <td>0</td>\n      <td>0</td>\n      <td>0</td>\n      <td>0</td>\n      <td>1</td>\n    </tr>\n    <tr>\n      <th>12179</th>\n      <td>1</td>\n      <td>0</td>\n      <td>0</td>\n      <td>0</td>\n      <td>0</td>\n      <td>1</td>\n      <td>0</td>\n      <td>1</td>\n    </tr>\n  </tbody>\n</table>\n<p>12180 rows × 8 columns</p>\n</div>"
     },
     "execution_count": 7,
     "metadata": {},
     "output_type": "execute_result"
    }
   ],
   "source": [
    "train_df[obj_cols]"
   ]
  },
  {
   "cell_type": "code",
   "execution_count": 8,
   "metadata": {
    "pycharm": {
     "name": "#%%\n"
    }
   },
   "outputs": [
    {
     "name": "stdout",
     "output_type": "stream",
     "text": [
      "0    5800\n",
      "1    4944\n",
      "2    1371\n",
      "3      65\n",
      "Name: home_ownership, dtype: int64 \n",
      "----\n",
      "\n",
      "0    5301\n",
      "1    4881\n",
      "2    1998\n",
      "Name: verification_status, dtype: int64 \n",
      "----\n",
      "\n",
      "0    10400\n",
      "1     1780\n",
      "Name: application_type, dtype: int64 \n",
      "----\n",
      "\n",
      "0    11832\n",
      "1      348\n",
      "Name: hardship_flag, dtype: int64 \n",
      "----\n",
      "\n",
      "0    12175\n",
      "1        5\n",
      "Name: debt_settlement_flag, dtype: int64 \n",
      "----\n",
      "\n",
      "0    11158\n",
      "1     1022\n",
      "Name: initial_list_status, dtype: int64 \n",
      "----\n",
      "\n",
      "0    12180\n",
      "Name: pymnt_plan, dtype: int64 \n",
      "----\n",
      "\n",
      "0    6090\n",
      "1    6090\n",
      "Name: loan_status, dtype: int64 \n",
      "----\n",
      "\n"
     ]
    }
   ],
   "source": [
    "X_train = train_df.drop('loan_status', axis=1)\n",
    "y_train = train_df['loan_status'].values\n",
    "\n",
    "for col in obj_cols:\n",
    "    print(train_df[col].value_counts(), '\\n----\\n')"
   ]
  },
  {
   "cell_type": "code",
   "execution_count": null,
   "metadata": {
    "pycharm": {
     "name": "#%%\n"
    }
   },
   "outputs": [],
   "source": [
    "X_test = test_df.drop('loan_status', axis=1).dropna()\n",
    "y_test = test_df['loan_status'].values"
   ]
  },
  {
   "cell_type": "code",
   "execution_count": null,
   "metadata": {
    "pycharm": {
     "name": "#%%\n"
    }
   },
   "outputs": [],
   "source": [
    "classifier = LogisticRegression(max_iter=300)\n",
    "classifier.fit(X_train, y_train)\n",
    "\n",
    "print(\n",
    "    f'The training coefficient is {classifier.score(X_train, y_train)}\\n'\n",
    "    f'The testing coefficient is {classifier.score(X_test, y_test)}\\n'\n",
    ")"
   ]
  },
  {
   "cell_type": "code",
   "execution_count": null,
   "metadata": {
    "pycharm": {
     "name": "#%%\n"
    }
   },
   "outputs": [],
   "source": [
    "rand_class = RandomForestClassifier(\n",
    "    random_state=42,\n",
    "    n_estimators=300\n",
    ").fit(X_train, y_train)\n",
    "\n",
    "print(\n",
    "    f'The random forest training coefficient is {rand_class.score(X_train, y_train)}\\n'\n",
    "    f'The random forest testing coefficient is {rand_class.score(X_test, y_test)}\\n'\n",
    ")"
   ]
  },
  {
   "cell_type": "code",
   "execution_count": null,
   "metadata": {
    "pycharm": {
     "name": "#%%\n"
    }
   },
   "outputs": [],
   "source": [
    "scaler = StandardScaler()\n",
    "X_train_scaled = scaler.fit_transform(X_train)\n",
    "X_test_scaled = scaler.fit_transform(X_test)\n",
    "\n",
    "classifier.fit(X_train_scaled, y_train)\n",
    "\n",
    "print(\n",
    "    f'The scaled regression training coefficient is {classifier.score(X_train_scaled, y_train)}\\n'\n",
    "    f'The scaled regression testing coefficient is {classifier.score(X_test_scaled, y_test)}\\n'\n",
    ")"
   ]
  },
  {
   "cell_type": "code",
   "execution_count": null,
   "metadata": {
    "pycharm": {
     "name": "#%%# train random forest on scaled data\n"
    }
   },
   "outputs": [],
   "source": [
    "print(f'Scaled Random Forest coefficient: {rand_class.score(X_test_scaled, y_test)}')"
   ]
  },
  {
   "cell_type": "code",
   "execution_count": null,
   "metadata": {
    "pycharm": {
     "name": "#%%\n"
    }
   },
   "outputs": [],
   "source": [
    "from six import StringIO\n",
    "from sklearn import tree\n",
    "\n",
    "dot_data = StringIO()\n",
    "\n",
    "clf = tree.DecisionTreeClassifier()\n",
    "clf = clf.fit(X_train, y_train)\n",
    ".."
   ]
  },
  {
   "cell_type": "code",
   "execution_count": null,
   "metadata": {
    "pycharm": {
     "name": "#%%\n"
    }
   },
   "outputs": [],
   "source": [
    "tree.export_graphviz(\n",
    "    clf,\n",
    "    out_file='dot_data_new.dot',\n",
    "    filled=True,\n",
    "    rounded=True,\n",
    "    special_characters=True,\n",
    "    leaves_parallel=True,\n",
    "    feature_names=X_train.columns\n",
    ")\n",
    "\n",
    "# to create the svg, generate the .dot file and run the following in a terminal\n",
    "# dot -Tsvg dot_data_new.dot -o tree_labels_new.svg"
   ]
  },
  {
   "cell_type": "code",
   "execution_count": null,
   "metadata": {
    "pycharm": {
     "name": "#%%\n"
    }
   },
   "outputs": [],
   "source": [
    "# from dtreeviz.trees import dtreeviz\n",
    "#\n",
    "# viz = dtreeviz(\n",
    "#     clf,\n",
    "#     X_train,\n",
    "#     y,\n",
    "#     feature_names=X_train.columns\n",
    "# )\n",
    "#\n",
    "# viz\n",
    "\n",
    "# this keeps running into a backend error that I don't have the time to fix right now.\n",
    "# it generates really cool visualizations though."
   ]
  }
 ],
 "metadata": {
  "kernelspec": {
   "display_name": "PyCharm (GT Data Science)",
   "language": "python",
   "name": "pycharm-50e30e5b"
  },
  "language_info": {
   "codemirror_mode": {
    "name": "ipython",
    "version": 3
   },
   "file_extension": ".py",
   "mimetype": "text/x-python",
   "name": "python",
   "nbconvert_exporter": "python",
   "pygments_lexer": "ipython3",
   "version": "3.8.12"
  }
 },
 "nbformat": 4,
 "nbformat_minor": 1
}