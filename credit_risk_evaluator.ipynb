{
 "cells": [
  {
   "cell_type": "code",
   "execution_count": 21,
   "metadata": {
    "pycharm": {
     "name": "#%%\n"
    }
   },
   "outputs": [],
   "source": [
    "\n",
    "import pandas as pd\n",
    "\n",
    "from sklearn.preprocessing import StandardScaler\n",
    "from sklearn.linear_model import LogisticRegression\n",
    "from sklearn.ensemble import RandomForestClassifier\n",
    "\n",
    "import warnings\n",
    "\n",
    "warnings.filterwarnings('ignore')\n",
    "\n",
    "\n",
    "def spaceless_lowers(df):\n",
    "    \"\"\"remove spaces and capital letters from column names. replace with _ and lowercase, respectively\"\"\"\n",
    "\n",
    "    new_cols = []\n",
    "    cols = df.columns\n",
    "\n",
    "    for col in cols:\n",
    "\n",
    "        if df[col].dtype == 'object':\n",
    "            df[col] = df[col].str.lower()\n",
    "        new_col = col.replace(' ', '_').lower()\n",
    "        new_cols.append(new_col)\n",
    "\n",
    "    df.columns = new_cols\n",
    "\n",
    "    return df\n",
    "\n",
    "\n",
    "train_df = pd.read_csv('Resources/2019loans.csv')\n",
    "test_df = pd.read_csv('Resources/2020Q1loans.csv')\n",
    "\n",
    "use_cols = ['home_ownership', 'verification_status',\n",
    "            'application_type', 'hardship_flag',\n",
    "            'debt_settlement_flag', 'initial_list_status',\n",
    "            'pymnt_plan', 'loan_status']\n",
    "\n"
   ]
  },
  {
   "cell_type": "code",
   "execution_count": 22,
   "metadata": {
    "pycharm": {
     "name": "#%%\n"
    }
   },
   "outputs": [],
   "source": [
    "train_df = train_df.dropna(axis='columns', how='all')\n",
    "test_df = test_df.dropna(axis='columns', how='all')\n",
    "\n",
    "train_df = train_df.dropna()\n",
    "\n",
    "train_df = train_df.drop(['Unnamed: 0', 'index'], axis=1)\n",
    "test_df = test_df.drop(['Unnamed: 0', 'index'], axis=1)\n",
    "\n",
    "test_df = spaceless_lowers(test_df)\n",
    "train_df = spaceless_lowers(train_df)\n",
    "\n",
    "# more straightforward to do it without this\n",
    "# train_df = pd.get_dummies(train_df, columns=use_cols)\n",
    "# test_df = pd.get_dummies(test_df, columns=use_cols)\n",
    "\n",
    "dfs = [train_df, test_df]"
   ]
  },
  {
   "cell_type": "code",
   "execution_count": 23,
   "outputs": [
    {
     "data": {
      "text/plain": "       loan_amnt  int_rate  installment home_ownership  annual_inc  \\\n0        13375.0    0.1797       483.34       mortgage    223000.0   \n1        21000.0    0.1308       478.68       mortgage    123000.0   \n2        20000.0    0.1240       448.95       mortgage    197000.0   \n3         3000.0    0.1240       100.22           rent     45000.0   \n4        30000.0    0.1612      1056.49       mortgage    133000.0   \n...          ...       ...          ...            ...         ...   \n12175    19975.0    0.2565       801.09           rent     28000.0   \n12176    15000.0    0.1774       540.34           rent     50000.0   \n12177     3600.0    0.1862       131.28           rent     60000.0   \n12178    15000.0    0.0881       475.68       mortgage     62000.0   \n12179    15000.0    0.1774       540.34           rent     54080.0   \n\n      verification_status loan_status pymnt_plan    dti  delinq_2yrs  ...  \\\n0            not verified    low_risk          n  29.99          0.0  ...   \n1         source verified    low_risk          n  11.26          2.0  ...   \n2         source verified    low_risk          n  11.28          0.0  ...   \n3            not verified    low_risk          n  18.08          0.0  ...   \n4         source verified    low_risk          n  27.77          0.0  ...   \n...                   ...         ...        ...    ...          ...  ...   \n12175        not verified   high_risk          n  28.42          0.0  ...   \n12176            verified   high_risk          n  23.43          4.0  ...   \n12177        not verified   high_risk          n  28.80          0.0  ...   \n12178     source verified   high_risk          n  11.44          0.0  ...   \n12179        not verified   high_risk          n  21.66          1.0  ...   \n\n       pct_tl_nvr_dlq  percent_bc_gt_75  pub_rec_bankruptcies  tax_liens  \\\n0               100.0              50.0                   0.0        0.0   \n1                85.0              33.3                   0.0        0.0   \n2                85.7              33.3                   0.0        0.0   \n3               100.0              16.7                   1.0        0.0   \n4               100.0              66.7                   0.0        0.0   \n...               ...               ...                   ...        ...   \n12175           100.0              16.7                   0.0        0.0   \n12176            90.5              11.1                   0.0        0.0   \n12177           100.0               0.0                   0.0        0.0   \n12178           100.0               0.0                   0.0        0.0   \n12179            90.0             100.0                   0.0        0.0   \n\n       tot_hi_cred_lim total_bal_ex_mort  total_bc_limit  \\\n0             577150.0          122018.0         32000.0   \n1             132750.0           27896.0         15900.0   \n2             628160.0          114043.0         22600.0   \n3              42006.0           20761.0         19900.0   \n4             283248.0          109056.0         79500.0   \n...                ...               ...             ...   \n12175          50055.0           28192.0         18700.0   \n12176          70324.0           57025.0         13300.0   \n12177          83765.0           55156.0         14800.0   \n12178         189930.0           23748.0          7000.0   \n12179          48968.0           29786.0          2900.0   \n\n       total_il_high_credit_limit  hardship_flag  debt_settlement_flag  \n0                        170200.0              n                     n  \n1                         35398.0              n                     n  \n2                         90340.0              n                     n  \n3                         15406.0              n                     n  \n4                         58778.0              n                     n  \n...                           ...            ...                   ...  \n12175                     19055.0              n                     n  \n12176                     54824.0              n                     n  \n12177                     53065.0              n                     n  \n12178                     32930.0              n                     n  \n12179                     33968.0              n                     n  \n\n[12180 rows x 84 columns]",
      "text/html": "<div>\n<style scoped>\n    .dataframe tbody tr th:only-of-type {\n        vertical-align: middle;\n    }\n\n    .dataframe tbody tr th {\n        vertical-align: top;\n    }\n\n    .dataframe thead th {\n        text-align: right;\n    }\n</style>\n<table border=\"1\" class=\"dataframe\">\n  <thead>\n    <tr style=\"text-align: right;\">\n      <th></th>\n      <th>loan_amnt</th>\n      <th>int_rate</th>\n      <th>installment</th>\n      <th>home_ownership</th>\n      <th>annual_inc</th>\n      <th>verification_status</th>\n      <th>loan_status</th>\n      <th>pymnt_plan</th>\n      <th>dti</th>\n      <th>delinq_2yrs</th>\n      <th>...</th>\n      <th>pct_tl_nvr_dlq</th>\n      <th>percent_bc_gt_75</th>\n      <th>pub_rec_bankruptcies</th>\n      <th>tax_liens</th>\n      <th>tot_hi_cred_lim</th>\n      <th>total_bal_ex_mort</th>\n      <th>total_bc_limit</th>\n      <th>total_il_high_credit_limit</th>\n      <th>hardship_flag</th>\n      <th>debt_settlement_flag</th>\n    </tr>\n  </thead>\n  <tbody>\n    <tr>\n      <th>0</th>\n      <td>13375.0</td>\n      <td>0.1797</td>\n      <td>483.34</td>\n      <td>mortgage</td>\n      <td>223000.0</td>\n      <td>not verified</td>\n      <td>low_risk</td>\n      <td>n</td>\n      <td>29.99</td>\n      <td>0.0</td>\n      <td>...</td>\n      <td>100.0</td>\n      <td>50.0</td>\n      <td>0.0</td>\n      <td>0.0</td>\n      <td>577150.0</td>\n      <td>122018.0</td>\n      <td>32000.0</td>\n      <td>170200.0</td>\n      <td>n</td>\n      <td>n</td>\n    </tr>\n    <tr>\n      <th>1</th>\n      <td>21000.0</td>\n      <td>0.1308</td>\n      <td>478.68</td>\n      <td>mortgage</td>\n      <td>123000.0</td>\n      <td>source verified</td>\n      <td>low_risk</td>\n      <td>n</td>\n      <td>11.26</td>\n      <td>2.0</td>\n      <td>...</td>\n      <td>85.0</td>\n      <td>33.3</td>\n      <td>0.0</td>\n      <td>0.0</td>\n      <td>132750.0</td>\n      <td>27896.0</td>\n      <td>15900.0</td>\n      <td>35398.0</td>\n      <td>n</td>\n      <td>n</td>\n    </tr>\n    <tr>\n      <th>2</th>\n      <td>20000.0</td>\n      <td>0.1240</td>\n      <td>448.95</td>\n      <td>mortgage</td>\n      <td>197000.0</td>\n      <td>source verified</td>\n      <td>low_risk</td>\n      <td>n</td>\n      <td>11.28</td>\n      <td>0.0</td>\n      <td>...</td>\n      <td>85.7</td>\n      <td>33.3</td>\n      <td>0.0</td>\n      <td>0.0</td>\n      <td>628160.0</td>\n      <td>114043.0</td>\n      <td>22600.0</td>\n      <td>90340.0</td>\n      <td>n</td>\n      <td>n</td>\n    </tr>\n    <tr>\n      <th>3</th>\n      <td>3000.0</td>\n      <td>0.1240</td>\n      <td>100.22</td>\n      <td>rent</td>\n      <td>45000.0</td>\n      <td>not verified</td>\n      <td>low_risk</td>\n      <td>n</td>\n      <td>18.08</td>\n      <td>0.0</td>\n      <td>...</td>\n      <td>100.0</td>\n      <td>16.7</td>\n      <td>1.0</td>\n      <td>0.0</td>\n      <td>42006.0</td>\n      <td>20761.0</td>\n      <td>19900.0</td>\n      <td>15406.0</td>\n      <td>n</td>\n      <td>n</td>\n    </tr>\n    <tr>\n      <th>4</th>\n      <td>30000.0</td>\n      <td>0.1612</td>\n      <td>1056.49</td>\n      <td>mortgage</td>\n      <td>133000.0</td>\n      <td>source verified</td>\n      <td>low_risk</td>\n      <td>n</td>\n      <td>27.77</td>\n      <td>0.0</td>\n      <td>...</td>\n      <td>100.0</td>\n      <td>66.7</td>\n      <td>0.0</td>\n      <td>0.0</td>\n      <td>283248.0</td>\n      <td>109056.0</td>\n      <td>79500.0</td>\n      <td>58778.0</td>\n      <td>n</td>\n      <td>n</td>\n    </tr>\n    <tr>\n      <th>...</th>\n      <td>...</td>\n      <td>...</td>\n      <td>...</td>\n      <td>...</td>\n      <td>...</td>\n      <td>...</td>\n      <td>...</td>\n      <td>...</td>\n      <td>...</td>\n      <td>...</td>\n      <td>...</td>\n      <td>...</td>\n      <td>...</td>\n      <td>...</td>\n      <td>...</td>\n      <td>...</td>\n      <td>...</td>\n      <td>...</td>\n      <td>...</td>\n      <td>...</td>\n      <td>...</td>\n    </tr>\n    <tr>\n      <th>12175</th>\n      <td>19975.0</td>\n      <td>0.2565</td>\n      <td>801.09</td>\n      <td>rent</td>\n      <td>28000.0</td>\n      <td>not verified</td>\n      <td>high_risk</td>\n      <td>n</td>\n      <td>28.42</td>\n      <td>0.0</td>\n      <td>...</td>\n      <td>100.0</td>\n      <td>16.7</td>\n      <td>0.0</td>\n      <td>0.0</td>\n      <td>50055.0</td>\n      <td>28192.0</td>\n      <td>18700.0</td>\n      <td>19055.0</td>\n      <td>n</td>\n      <td>n</td>\n    </tr>\n    <tr>\n      <th>12176</th>\n      <td>15000.0</td>\n      <td>0.1774</td>\n      <td>540.34</td>\n      <td>rent</td>\n      <td>50000.0</td>\n      <td>verified</td>\n      <td>high_risk</td>\n      <td>n</td>\n      <td>23.43</td>\n      <td>4.0</td>\n      <td>...</td>\n      <td>90.5</td>\n      <td>11.1</td>\n      <td>0.0</td>\n      <td>0.0</td>\n      <td>70324.0</td>\n      <td>57025.0</td>\n      <td>13300.0</td>\n      <td>54824.0</td>\n      <td>n</td>\n      <td>n</td>\n    </tr>\n    <tr>\n      <th>12177</th>\n      <td>3600.0</td>\n      <td>0.1862</td>\n      <td>131.28</td>\n      <td>rent</td>\n      <td>60000.0</td>\n      <td>not verified</td>\n      <td>high_risk</td>\n      <td>n</td>\n      <td>28.80</td>\n      <td>0.0</td>\n      <td>...</td>\n      <td>100.0</td>\n      <td>0.0</td>\n      <td>0.0</td>\n      <td>0.0</td>\n      <td>83765.0</td>\n      <td>55156.0</td>\n      <td>14800.0</td>\n      <td>53065.0</td>\n      <td>n</td>\n      <td>n</td>\n    </tr>\n    <tr>\n      <th>12178</th>\n      <td>15000.0</td>\n      <td>0.0881</td>\n      <td>475.68</td>\n      <td>mortgage</td>\n      <td>62000.0</td>\n      <td>source verified</td>\n      <td>high_risk</td>\n      <td>n</td>\n      <td>11.44</td>\n      <td>0.0</td>\n      <td>...</td>\n      <td>100.0</td>\n      <td>0.0</td>\n      <td>0.0</td>\n      <td>0.0</td>\n      <td>189930.0</td>\n      <td>23748.0</td>\n      <td>7000.0</td>\n      <td>32930.0</td>\n      <td>n</td>\n      <td>n</td>\n    </tr>\n    <tr>\n      <th>12179</th>\n      <td>15000.0</td>\n      <td>0.1774</td>\n      <td>540.34</td>\n      <td>rent</td>\n      <td>54080.0</td>\n      <td>not verified</td>\n      <td>high_risk</td>\n      <td>n</td>\n      <td>21.66</td>\n      <td>1.0</td>\n      <td>...</td>\n      <td>90.0</td>\n      <td>100.0</td>\n      <td>0.0</td>\n      <td>0.0</td>\n      <td>48968.0</td>\n      <td>29786.0</td>\n      <td>2900.0</td>\n      <td>33968.0</td>\n      <td>n</td>\n      <td>n</td>\n    </tr>\n  </tbody>\n</table>\n<p>12180 rows × 84 columns</p>\n</div>"
     },
     "execution_count": 23,
     "metadata": {},
     "output_type": "execute_result"
    }
   ],
   "source": [
    "train_df"
   ],
   "metadata": {
    "collapsed": false,
    "pycharm": {
     "name": "#%%\n"
    }
   }
  },
  {
   "cell_type": "code",
   "execution_count": 24,
   "outputs": [
    {
     "data": {
      "text/plain": "Index(['loan_amnt', 'int_rate', 'installment', 'home_ownership', 'annual_inc',\n       'verification_status', 'loan_status', 'pymnt_plan', 'dti',\n       'delinq_2yrs', 'inq_last_6mths', 'open_acc', 'pub_rec', 'revol_bal',\n       'total_acc', 'initial_list_status', 'out_prncp', 'out_prncp_inv',\n       'total_pymnt', 'total_pymnt_inv', 'total_rec_prncp', 'total_rec_int',\n       'total_rec_late_fee', 'recoveries', 'collection_recovery_fee',\n       'last_pymnt_amnt', 'collections_12_mths_ex_med', 'policy_code',\n       'application_type', 'acc_now_delinq', 'tot_coll_amt', 'tot_cur_bal',\n       'open_acc_6m', 'open_act_il', 'open_il_12m', 'open_il_24m',\n       'mths_since_rcnt_il', 'total_bal_il', 'il_util', 'open_rv_12m',\n       'open_rv_24m', 'max_bal_bc', 'all_util', 'total_rev_hi_lim', 'inq_fi',\n       'total_cu_tl', 'inq_last_12m', 'acc_open_past_24mths', 'avg_cur_bal',\n       'bc_open_to_buy', 'bc_util', 'chargeoff_within_12_mths', 'delinq_amnt',\n       'mo_sin_old_il_acct', 'mo_sin_old_rev_tl_op', 'mo_sin_rcnt_rev_tl_op',\n       'mo_sin_rcnt_tl', 'mort_acc', 'mths_since_recent_bc',\n       'mths_since_recent_inq', 'num_accts_ever_120_pd', 'num_actv_bc_tl',\n       'num_actv_rev_tl', 'num_bc_sats', 'num_bc_tl', 'num_il_tl',\n       'num_op_rev_tl', 'num_rev_accts', 'num_rev_tl_bal_gt_0', 'num_sats',\n       'num_tl_120dpd_2m', 'num_tl_30dpd', 'num_tl_90g_dpd_24m',\n       'num_tl_op_past_12m', 'pct_tl_nvr_dlq', 'percent_bc_gt_75',\n       'pub_rec_bankruptcies', 'tax_liens', 'tot_hi_cred_lim',\n       'total_bal_ex_mort', 'total_bc_limit', 'total_il_high_credit_limit',\n       'hardship_flag', 'debt_settlement_flag'],\n      dtype='object')"
     },
     "execution_count": 24,
     "metadata": {},
     "output_type": "execute_result"
    }
   ],
   "source": [
    "train_df.columns"
   ],
   "metadata": {
    "collapsed": false,
    "pycharm": {
     "name": "#%%\n"
    }
   }
  },
  {
   "cell_type": "code",
   "execution_count": 25,
   "metadata": {
    "pycharm": {
     "name": "#%%\n"
    }
   },
   "outputs": [],
   "source": [
    "obj_cols = [col for col in train_df.columns if train_df[col].dtype == 'object']\n",
    "\n",
    "for col in obj_cols:\n",
    "    train_df[col] = train_df[col].str.lower().str.replace(' ', '_')\n",
    "    test_df[col] = test_df[col].str.lower().str.replace(' ', '_')\n",
    "\n",
    "for df in dfs:\n",
    "    home_ownership = df['home_ownership']\n",
    "    verification_status = df['verification_status']\n",
    "    pymnt_plan = df['pymnt_plan']\n",
    "    initial_list_status = df['initial_list_status']\n",
    "    application_type = df['application_type']\n",
    "    hardship_flag = df['hardship_flag']\n",
    "    debt_settlement_flag = df['debt_settlement_flag']\n",
    "    loan_status = df['loan_status']\n",
    "\n",
    "    home_ownership.replace(\n",
    "        {\n",
    "            'mortgage': 0,\n",
    "            'rent': 1,\n",
    "            'own': 2,\n",
    "            'any': 3\n",
    "\n",
    "        }, inplace=True\n",
    "    )\n",
    "\n",
    "    loan_status.replace(\n",
    "        {\n",
    "            'low_risk': 0,\n",
    "            'high_risk': 1\n",
    "        }, inplace=True\n",
    "    )\n",
    "\n",
    "    verification_status.replace(\n",
    "        {\n",
    "            'not_verified': 0,\n",
    "            'source_verified': 1,\n",
    "            'verified': 2\n",
    "        }, inplace=True\n",
    "    )\n",
    "\n",
    "    pymnt_plan.replace(\n",
    "        {\n",
    "            'n': 0\n",
    "        }, inplace=True\n",
    "    )\n",
    "\n",
    "    initial_list_status.replace(\n",
    "        {\n",
    "            'w': 0,\n",
    "            'f': 1\n",
    "        }, inplace=True\n",
    "    )\n",
    "\n",
    "    application_type.replace(\n",
    "        {\n",
    "            'individual': 0,\n",
    "            'joint_app': 1\n",
    "        }, inplace=True\n",
    "    )\n",
    "\n",
    "    hardship_flag.replace(\n",
    "        {\n",
    "            'n': 0,\n",
    "            'y': 1\n",
    "        }, inplace=True\n",
    "    )\n",
    "\n",
    "    debt_settlement_flag.replace(\n",
    "        {\n",
    "            'n': 0,\n",
    "            'y': 1\n",
    "        }, inplace=True)\n",
    "\n"
   ]
  },
  {
   "cell_type": "code",
   "execution_count": 26,
   "metadata": {
    "pycharm": {
     "name": "#%%\n"
    }
   },
   "outputs": [
    {
     "data": {
      "text/plain": "       home_ownership  verification_status  loan_status  pymnt_plan  \\\n0                   0                    0            0           0   \n1                   0                    1            0           0   \n2                   0                    1            0           0   \n3                   1                    0            0           0   \n4                   0                    1            0           0   \n...               ...                  ...          ...         ...   \n12175               1                    0            1           0   \n12176               1                    2            1           0   \n12177               1                    0            1           0   \n12178               0                    1            1           0   \n12179               1                    0            1           0   \n\n       initial_list_status  application_type  hardship_flag  \\\n0                        0                 0              0   \n1                        0                 0              0   \n2                        0                 0              0   \n3                        0                 0              0   \n4                        0                 0              0   \n...                    ...               ...            ...   \n12175                    0                 0              0   \n12176                    0                 0              0   \n12177                    0                 0              0   \n12178                    0                 1              0   \n12179                    1                 0              0   \n\n       debt_settlement_flag  \n0                         0  \n1                         0  \n2                         0  \n3                         0  \n4                         0  \n...                     ...  \n12175                     0  \n12176                     0  \n12177                     0  \n12178                     0  \n12179                     0  \n\n[12180 rows x 8 columns]",
      "text/html": "<div>\n<style scoped>\n    .dataframe tbody tr th:only-of-type {\n        vertical-align: middle;\n    }\n\n    .dataframe tbody tr th {\n        vertical-align: top;\n    }\n\n    .dataframe thead th {\n        text-align: right;\n    }\n</style>\n<table border=\"1\" class=\"dataframe\">\n  <thead>\n    <tr style=\"text-align: right;\">\n      <th></th>\n      <th>home_ownership</th>\n      <th>verification_status</th>\n      <th>loan_status</th>\n      <th>pymnt_plan</th>\n      <th>initial_list_status</th>\n      <th>application_type</th>\n      <th>hardship_flag</th>\n      <th>debt_settlement_flag</th>\n    </tr>\n  </thead>\n  <tbody>\n    <tr>\n      <th>0</th>\n      <td>0</td>\n      <td>0</td>\n      <td>0</td>\n      <td>0</td>\n      <td>0</td>\n      <td>0</td>\n      <td>0</td>\n      <td>0</td>\n    </tr>\n    <tr>\n      <th>1</th>\n      <td>0</td>\n      <td>1</td>\n      <td>0</td>\n      <td>0</td>\n      <td>0</td>\n      <td>0</td>\n      <td>0</td>\n      <td>0</td>\n    </tr>\n    <tr>\n      <th>2</th>\n      <td>0</td>\n      <td>1</td>\n      <td>0</td>\n      <td>0</td>\n      <td>0</td>\n      <td>0</td>\n      <td>0</td>\n      <td>0</td>\n    </tr>\n    <tr>\n      <th>3</th>\n      <td>1</td>\n      <td>0</td>\n      <td>0</td>\n      <td>0</td>\n      <td>0</td>\n      <td>0</td>\n      <td>0</td>\n      <td>0</td>\n    </tr>\n    <tr>\n      <th>4</th>\n      <td>0</td>\n      <td>1</td>\n      <td>0</td>\n      <td>0</td>\n      <td>0</td>\n      <td>0</td>\n      <td>0</td>\n      <td>0</td>\n    </tr>\n    <tr>\n      <th>...</th>\n      <td>...</td>\n      <td>...</td>\n      <td>...</td>\n      <td>...</td>\n      <td>...</td>\n      <td>...</td>\n      <td>...</td>\n      <td>...</td>\n    </tr>\n    <tr>\n      <th>12175</th>\n      <td>1</td>\n      <td>0</td>\n      <td>1</td>\n      <td>0</td>\n      <td>0</td>\n      <td>0</td>\n      <td>0</td>\n      <td>0</td>\n    </tr>\n    <tr>\n      <th>12176</th>\n      <td>1</td>\n      <td>2</td>\n      <td>1</td>\n      <td>0</td>\n      <td>0</td>\n      <td>0</td>\n      <td>0</td>\n      <td>0</td>\n    </tr>\n    <tr>\n      <th>12177</th>\n      <td>1</td>\n      <td>0</td>\n      <td>1</td>\n      <td>0</td>\n      <td>0</td>\n      <td>0</td>\n      <td>0</td>\n      <td>0</td>\n    </tr>\n    <tr>\n      <th>12178</th>\n      <td>0</td>\n      <td>1</td>\n      <td>1</td>\n      <td>0</td>\n      <td>0</td>\n      <td>1</td>\n      <td>0</td>\n      <td>0</td>\n    </tr>\n    <tr>\n      <th>12179</th>\n      <td>1</td>\n      <td>0</td>\n      <td>1</td>\n      <td>0</td>\n      <td>1</td>\n      <td>0</td>\n      <td>0</td>\n      <td>0</td>\n    </tr>\n  </tbody>\n</table>\n<p>12180 rows × 8 columns</p>\n</div>"
     },
     "execution_count": 26,
     "metadata": {},
     "output_type": "execute_result"
    }
   ],
   "source": [
    "train_df[obj_cols]"
   ]
  },
  {
   "cell_type": "code",
   "execution_count": 27,
   "metadata": {
    "pycharm": {
     "name": "#%%\n"
    }
   },
   "outputs": [
    {
     "name": "stdout",
     "output_type": "stream",
     "text": [
      "0    5800\n",
      "1    4944\n",
      "2    1371\n",
      "3      65\n",
      "Name: home_ownership, dtype: int64 \n",
      "----\n",
      "\n",
      "0    5301\n",
      "1    4881\n",
      "2    1998\n",
      "Name: verification_status, dtype: int64 \n",
      "----\n",
      "\n",
      "0    6090\n",
      "1    6090\n",
      "Name: loan_status, dtype: int64 \n",
      "----\n",
      "\n",
      "0    12180\n",
      "Name: pymnt_plan, dtype: int64 \n",
      "----\n",
      "\n",
      "0    11158\n",
      "1     1022\n",
      "Name: initial_list_status, dtype: int64 \n",
      "----\n",
      "\n",
      "0    10400\n",
      "1     1780\n",
      "Name: application_type, dtype: int64 \n",
      "----\n",
      "\n",
      "0    11832\n",
      "1      348\n",
      "Name: hardship_flag, dtype: int64 \n",
      "----\n",
      "\n",
      "0    12175\n",
      "1        5\n",
      "Name: debt_settlement_flag, dtype: int64 \n",
      "----\n",
      "\n"
     ]
    }
   ],
   "source": [
    "X_train = train_df.drop('loan_status', axis=1)\n",
    "y_train = train_df['loan_status'].values\n",
    "\n",
    "for col in obj_cols:\n",
    "    print(train_df[col].value_counts(), '\\n----\\n')"
   ]
  },
  {
   "cell_type": "code",
   "execution_count": 28,
   "metadata": {
    "pycharm": {
     "name": "#%%\n"
    }
   },
   "outputs": [],
   "source": [
    "X_test = test_df.drop('loan_status', axis=1).dropna()\n",
    "y_test = test_df['loan_status'].values"
   ]
  },
  {
   "cell_type": "code",
   "execution_count": 29,
   "metadata": {
    "pycharm": {
     "name": "#%%\n"
    }
   },
   "outputs": [
    {
     "name": "stdout",
     "output_type": "stream",
     "text": [
      "The training coefficient is 0.6786535303776683\n",
      "The testing coefficient is 0.546575925138239\n",
      "\n"
     ]
    }
   ],
   "source": [
    "classifier = LogisticRegression(max_iter=300)\n",
    "classifier.fit(X_train, y_train)\n",
    "\n",
    "print(\n",
    "    f'The training coefficient is {classifier.score(X_train, y_train)}\\n'\n",
    "    f'The testing coefficient is {classifier.score(X_test, y_test)}\\n'\n",
    ")"
   ]
  },
  {
   "cell_type": "code",
   "execution_count": 30,
   "metadata": {
    "pycharm": {
     "name": "#%%\n"
    }
   },
   "outputs": [
    {
     "name": "stdout",
     "output_type": "stream",
     "text": [
      "The random forest training coefficient is 1.0\n",
      "The random forest testing coefficient is 0.6431305827307529\n",
      "\n"
     ]
    }
   ],
   "source": [
    "rand_class = RandomForestClassifier(\n",
    "    random_state=42,\n",
    "    n_estimators=300\n",
    ").fit(X_train, y_train)\n",
    "\n",
    "print(\n",
    "    f'The random forest training coefficient is {rand_class.score(X_train, y_train)}\\n'\n",
    "    f'The random forest testing coefficient is {rand_class.score(X_test, y_test)}\\n'\n",
    ")"
   ]
  },
  {
   "cell_type": "code",
   "execution_count": 31,
   "metadata": {
    "pycharm": {
     "name": "#%%\n"
    }
   },
   "outputs": [
    {
     "name": "stdout",
     "output_type": "stream",
     "text": [
      "The scaled regression training coefficient is 0.7082101806239737\n",
      "The scaled regression testing coefficient is 0.6616333475116971\n",
      "\n"
     ]
    }
   ],
   "source": [
    "scaler = StandardScaler()\n",
    "X_train_scaled = scaler.fit_transform(X_train)\n",
    "X_test_scaled = scaler.fit_transform(X_test)\n",
    "\n",
    "classifier.fit(X_train_scaled, y_train)\n",
    "\n",
    "print(\n",
    "    f'The scaled regression training coefficient is {classifier.score(X_train_scaled, y_train)}\\n'\n",
    "    f'The scaled regression testing coefficient is {classifier.score(X_test_scaled, y_test)}\\n'\n",
    ")"
   ]
  },
  {
   "cell_type": "code",
   "execution_count": 32,
   "metadata": {
    "pycharm": {
     "name": "#%%# train random forest on scaled data\n"
    }
   },
   "outputs": [
    {
     "name": "stdout",
     "output_type": "stream",
     "text": [
      "Scaled Random Forest coefficient: 0.5\n"
     ]
    }
   ],
   "source": [
    "print(f'Scaled Random Forest coefficient: {rand_class.score(X_test_scaled, y_test)}')"
   ]
  }
 ],
 "metadata": {
  "kernelspec": {
   "display_name": "Python 3 (ipykernel)",
   "language": "python",
   "name": "python3"
  },
  "language_info": {
   "codemirror_mode": {
    "name": "ipython",
    "version": 3
   },
   "file_extension": ".py",
   "mimetype": "text/x-python",
   "name": "python",
   "nbconvert_exporter": "python",
   "pygments_lexer": "ipython3",
   "version": "3.8.12"
  }
 },
 "nbformat": 4,
 "nbformat_minor": 1
}