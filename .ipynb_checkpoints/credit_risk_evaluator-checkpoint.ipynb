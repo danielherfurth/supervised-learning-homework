{
 "cells": [
  {
   "cell_type": "code",
   "execution_count": null,
   "metadata": {
    "pycharm": {
     "name": "#%%\n"
    }
   },
   "outputs": [],
   "source": [
    "import numpy as np\n",
    "import pandas as pd\n",
    "from pathlib import Path\n",
    "from sklearn.preprocessing import StandardScaler\n",
    "from sklearn.linear_model import LogisticRegression\n",
    "from sklearn.ensemble import RandomForestClassifier\n",
    "from sklearn.feature_selection import SelectFromModel\n",
    "from sklearn.preprocessing import LabelEncoder\n",
    "from sklearn.model_selection import train_test_split as tts\n",
    "from sklearn.preprocessing import MinMaxScaler\n",
    "\n",
    "import warnings\n",
    "warnings.filterwarnings('ignore')\n",
    "\n",
    "def spaceless_lowers(df):\n",
    "    \"\"\"remove spaces and capital letters from column names. replace with _ and lowercase, respectively\"\"\"\n",
    "\n",
    "    new_cols = []\n",
    "    cols = df.columns\n",
    "\n",
    "    for col in cols:\n",
    "\n",
    "        if df[col].dtype == 'object':\n",
    "            df[col] = df[col].str.lower()\n",
    "        new_col = col.replace(' ', '_').lower()\n",
    "        new_cols.append(new_col)\n",
    "\n",
    "    df.columns = new_cols\n",
    "\n",
    "    return df\n",
    "\n",
    "\n",
    "train_df = pd.read_csv(Path('Resources/2019loans.csv'))\n",
    "test_df = pd.read_csv(Path('Resources/2020Q1loans.csv'))\n",
    "\n",
    "# train_df['loan_status'].value_counts()"
   ]
  },
  {
   "cell_type": "code",
   "execution_count": null,
   "metadata": {
    "pycharm": {
     "name": "#%%\n"
    }
   },
   "outputs": [],
   "source": [
    "train_df = train_df.dropna(axis='columns', how='all')\n",
    "test_df = test_df.dropna(axis='columns', how='all')\n",
    "\n",
    "train_df = train_df.dropna()\n",
    "\n",
    "train_df = train_df.drop(['Unnamed: 0', 'index'], axis=1)\n",
    "test_df = test_df.drop(['Unnamed: 0', 'index'], axis=1)\n",
    "\n",
    "\n",
    "\n",
    "test_df = spaceless_lowers(test_df)\n",
    "train_df = spaceless_lowers(train_df)\n",
    "\n",
    "dfs = [train_df, test_df]"
   ]
  },
  {
   "cell_type": "code",
   "execution_count": null,
   "metadata": {
    "pycharm": {
     "name": "#%%\n"
    }
   },
   "outputs": [],
   "source": [
    "obj_cols = [col for col in train_df.columns if train_df[col].dtype == 'object']\n",
    "\n",
    "for col in obj_cols:\n",
    "    train_df[col] = train_df[col].str.lower().str.replace(' ', '_')\n",
    "    test_df[col] = test_df[col].str.lower().str.replace(' ', '_')\n",
    "\n",
    "for df in dfs:\n",
    "    home_ownership = df['home_ownership']\n",
    "    verification_status = df['verification_status']\n",
    "    pymnt_plan = df['pymnt_plan']\n",
    "    initial_list_status = df['initial_list_status']\n",
    "    application_type = df['application_type']\n",
    "    hardship_flag = df['hardship_flag']\n",
    "    debt_settlement_flag = df['debt_settlement_flag']\n",
    "    loan_status = df['loan_status']\n",
    "\n",
    "    home_ownership = home_ownership.replace(\n",
    "        {\n",
    "            'mortgage': 0,\n",
    "            'rent': 1,\n",
    "            'own': 2,\n",
    "            'any': 3\n",
    "\n",
    "        }, inplace=True\n",
    "    )\n",
    "\n",
    "    loan_status = loan_status.replace(\n",
    "        {\n",
    "            'low_risk': 0,\n",
    "            'high_risk': 1\n",
    "        }, inplace=True\n",
    "    )\n",
    "\n",
    "    verification_status = verification_status.replace(\n",
    "        {\n",
    "            'not_verified': 0,\n",
    "            'source_verified': 1,\n",
    "            'verified': 2\n",
    "        }, inplace=True\n",
    "    )\n",
    "\n",
    "    pymnt_plan = pymnt_plan.replace(\n",
    "        {\n",
    "            'n': 0\n",
    "        }, inplace=True\n",
    "    )\n",
    "\n",
    "    initial_list_status = initial_list_status.replace(\n",
    "        {\n",
    "            'w': 0,\n",
    "            'f': 1\n",
    "        }, inplace=True\n",
    "    )\n",
    "\n",
    "    application_type = application_type.replace(\n",
    "        {\n",
    "            'individual': 0,\n",
    "            'joint_app': 1\n",
    "        }, inplace=True\n",
    "    )\n",
    "\n",
    "    hardship_flag = hardship_flag.replace(\n",
    "        {\n",
    "            'n': 0,\n",
    "            'y': 1\n",
    "        }, inplace=True\n",
    "    )\n",
    "\n",
    "    debt_settlement_flag = debt_settlement_flag.replace(\n",
    "        {\n",
    "            'n': 0,\n",
    "            'y': 1\n",
    "        }, inplace=True\n",
    "    )\n",
    "\n",
    "\n",
    "\n",
    "\n",
    "\n"
   ]
  },
  {
   "cell_type": "code",
   "execution_count": null,
   "metadata": {
    "pycharm": {
     "name": "#%%\n"
    }
   },
   "outputs": [],
   "source": [
    "train_df[obj_cols]"
   ]
  },
  {
   "cell_type": "code",
   "execution_count": null,
   "metadata": {
    "pycharm": {
     "name": "#%%\n"
    }
   },
   "outputs": [],
   "source": [
    "X_train =  train_df.drop('loan_status', axis=1)\n",
    "y_train = train_df['loan_status'].values\n",
    "\n",
    "for col in obj_cols:\n",
    "    print(train_df[col].value_counts(), '\\n----\\n')"
   ]
  },
  {
   "cell_type": "code",
   "execution_count": null,
   "metadata": {
    "pycharm": {
     "name": "#%%\n"
    }
   },
   "outputs": [],
   "source": [
    "X_test = test_df.drop('loan_status', axis=1).dropna()\n",
    "y_test = test_df['loan_status'].values"
   ]
  },
  {
   "cell_type": "code",
   "execution_count": null,
   "metadata": {
    "pycharm": {
     "name": "#%%\n"
    }
   },
   "outputs": [],
   "source": [
    "classifier = LogisticRegression(max_iter=300)\n",
    "classifier.fit(X_train, y_train)\n",
    "\n",
    "print(\n",
    "    f'The training coefficient is {classifier.score(X_train, y_train)}\\n'\n",
    "    f'The testing coefficient is {classifier.score(X_test, y_test)}\\n'\n",
    ")"
   ]
  },
  {
   "cell_type": "code",
   "execution_count": null,
   "metadata": {
    "pycharm": {
     "name": "#%%\n"
    }
   },
   "outputs": [],
   "source": []
  },
  {
   "cell_type": "code",
   "execution_count": null,
   "metadata": {
    "pycharm": {
     "name": "#%%\n"
    }
   },
   "outputs": [],
   "source": [
    "rand_class = RandomForestClassifier(\n",
    "    random_state=42,\n",
    "    n_estimators=300\n",
    ").fit(X_train, y_train)\n",
    "\n",
    "\n",
    "print(\n",
    "    f'The random forest training coefficient is {rand_class.score(X_train, y_train)}\\n'\n",
    "    f'The random forest testing coefficient is {rand_class.score(X_test, y_test)}\\n'\n",
    ")"
   ]
  },
  {
   "cell_type": "code",
   "execution_count": null,
   "metadata": {
    "pycharm": {
     "name": "#%%\n"
    }
   },
   "outputs": [],
   "source": [
    "# lab_enc = LabelEncoder()\n",
    "# train_copy = train_df.copy()\n",
    "#\n",
    "# train_copy['loan_status'] = lab_enc.fit_transform(train_copy['loan_status'])\n",
    "# y = pd.DataFrame(train_copy['loan_status'].values)"
   ]
  },
  {
   "cell_type": "code",
   "execution_count": null,
   "metadata": {
    "pycharm": {
     "name": "#%%\n"
    }
   },
   "outputs": [],
   "source": [
    "scaler = StandardScaler()\n",
    "X_train_scaled = scaler.fit_transform(X_train)\n",
    "X_test_scaled = scaler.fit_transform(X_test)\n",
    "\n",
    "classifier.fit(X_train_scaled, y_train)\n",
    "\n",
    "print(\n",
    "    f'The scaled regression training coefficient is {classifier.score(X_train_scaled, y_train)}\\n'\n",
    "    f'The scaled regression testing coefficient is {classifier.score(X_test_scaled, y_test)}\\n'\n",
    ")"
   ]
  },
  {
   "cell_type": "code",
   "execution_count": null,
   "metadata": {
    "pycharm": {
     "name": "#%%# train random forest on scaled data\n"
    }
   },
   "outputs": [],
   "source": [
    "print(f'Scaled Random Forest coefficient: {rand_class.score(X_test_scaled, y_test)}')"
   ]
  }
 ],
 "metadata": {
  "kernelspec": {
   "display_name": "Python 3 (ipykernel)",
   "language": "python",
   "name": "python3"
  },
  "language_info": {
   "codemirror_mode": {
    "name": "ipython",
    "version": 3
   },
   "file_extension": ".py",
   "mimetype": "text/x-python",
   "name": "python",
   "nbconvert_exporter": "python",
   "pygments_lexer": "ipython3",
   "version": "3.8.12"
  }
 },
 "nbformat": 4,
 "nbformat_minor": 1
}
